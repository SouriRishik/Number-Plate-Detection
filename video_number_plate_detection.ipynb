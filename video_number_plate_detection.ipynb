{
 "cells": [
  {
   "cell_type": "code",
   "execution_count": 52,
   "id": "f691bc4a",
   "metadata": {},
   "outputs": [],
   "source": [
    "import cv2\n",
    "from matplotlib import pyplot as plt\n",
    "import numpy as np\n",
    "import easyocr\n",
    "import imutils\n"
   ]
  },
  {
   "cell_type": "code",
   "execution_count": null,
   "id": "bc230cc6",
   "metadata": {},
   "outputs": [
    {
     "name": "stderr",
     "output_type": "stream",
     "text": [
      "Neither CUDA nor MPS are available - defaulting to CPU. Note: This module is much faster with a GPU.\n"
     ]
    }
   ],
   "source": [
    "# Load the video\n",
    "video_path = \"TestVideo.mp4\"  # Replace with your video file path\n",
    "cap = cv2.VideoCapture(video_path)\n",
    "\n",
    "# Check if the video file is loaded successfully\n",
    "if not cap.isOpened():\n",
    "    print(\"Error: Could not open video.\")\n",
    "    exit()\n",
    "\n",
    "# Get frame rate to slow down playback\n",
    "fps = cap.get(cv2.CAP_PROP_FPS)\n",
    "delay = int(1000 / fps)\n",
    "\n",
    "reader = easyocr.Reader(['en'])\n",
    "\n",
    "while cap.isOpened():\n",
    "    ret, frame = cap.read()\n",
    "    if not ret:\n",
    "        break\n",
    "\n",
    "    # Convert to grayscale\n",
    "    gray = cv2.cvtColor(frame, cv2.COLOR_BGR2GRAY)\n",
    "\n",
    "    # Bilateral filter to reduce noise while keeping edges sharp\n",
    "    bfilter = cv2.bilateralFilter(gray, 11, 17, 17)\n",
    "\n",
    "    # Canny edge detection\n",
    "    edged = cv2.Canny(bfilter, 30, 200)\n",
    "\n",
    "    # Find contours\n",
    "    cnts = cv2.findContours(edged.copy(), cv2.RETR_TREE, cv2.CHAIN_APPROX_SIMPLE)\n",
    "    contours = imutils.grab_contours(cnts)\n",
    "    contours = sorted(contours, key=cv2.contourArea, reverse=True)[:10]\n",
    "\n",
    "    location = None\n",
    "    for contour in contours:\n",
    "        approx = cv2.approxPolyDP(contour, 10, True)\n",
    "        if len(approx) == 4:\n",
    "            x, y, w, h = cv2.boundingRect(approx)\n",
    "            aspect_ratio = w / float(h)\n",
    "            area = cv2.contourArea(contour)\n",
    "            if 2 < aspect_ratio < 6 and area > 500:\n",
    "                location = approx\n",
    "                break\n",
    "\n",
    "    if location is not None:\n",
    "        mask = np.zeros(gray.shape, dtype=np.uint8)\n",
    "        cv2.drawContours(mask, [location], -1, 255, -1)\n",
    "        (x, y) = np.where(mask == 255)\n",
    "        (x1, y1) = (np.min(x), np.min(y))\n",
    "        (x2, y2) = (np.max(x), np.max(y))\n",
    "        cropped_image = gray[x1:x2+1, y1:y2+1]\n",
    "\n",
    "        # Resize for OCR\n",
    "        cropped_image = cv2.resize(cropped_image, None, fx=2, fy=2, interpolation=cv2.INTER_CUBIC)\n",
    "\n",
    "        result = reader.readtext(cropped_image)\n",
    "        if result:\n",
    "            text = result[0][-2]\n",
    "            font = cv2.FONT_HERSHEY_SIMPLEX\n",
    "            frame = cv2.putText(frame, text=text, org=(location[0][0][0], location[1][0][1]+60),\n",
    "                                fontFace=font, fontScale=1, color=(0, 255, 0), thickness=2, lineType=cv2.LINE_AA)\n",
    "            frame = cv2.polylines(frame, [location], True, (0, 255, 0), 3)\n",
    "\n",
    "    cv2.imshow(\"Video Processing\", frame)\n",
    "\n",
    "    # Control playback speed\n",
    "    if cv2.waitKey(delay) & 0xFF == ord('q'):\n",
    "        break\n",
    "\n",
    "cap.release()\n",
    "cv2.destroyAllWindows()"
   ]
  }
 ],
 "metadata": {
  "kernelspec": {
   "display_name": "Python 3",
   "language": "python",
   "name": "python3"
  },
  "language_info": {
   "codemirror_mode": {
    "name": "ipython",
    "version": 3
   },
   "file_extension": ".py",
   "mimetype": "text/x-python",
   "name": "python",
   "nbconvert_exporter": "python",
   "pygments_lexer": "ipython3",
   "version": "3.12.0"
  }
 },
 "nbformat": 4,
 "nbformat_minor": 5
}
