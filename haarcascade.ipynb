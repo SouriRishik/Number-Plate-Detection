{
 "cells": [
  {
   "cell_type": "code",
   "execution_count": 2,
   "id": "384adaed",
   "metadata": {},
   "outputs": [
    {
     "name": "stderr",
     "output_type": "stream",
     "text": [
      "Using CPU. Note: This module is much faster with a GPU.\n"
     ]
    }
   ],
   "source": [
    "import cv2\n",
    "import numpy as np\n",
    "import easyocr\n",
    "\n",
    "# Initialize EasyOCR\n",
    "reader = easyocr.Reader(['en'], gpu=False)\n",
    "\n",
    "# Load Haar Cascade for license plate detection\n",
    "plate_cascade = cv2.CascadeClassifier(cv2.data.haarcascades + 'haarcascade_russian_plate_number.xml')\n",
    "\n",
    "def detect_plates(frame):\n",
    "    gray = cv2.cvtColor(frame, cv2.COLOR_BGR2GRAY)\n",
    "    plates = plate_cascade.detectMultiScale(gray, scaleFactor=1.1, minNeighbors=5, minSize=(60, 20), maxSize=(300, 100))\n",
    "    return plates\n",
    "\n",
    "def process_frame(frame):\n",
    "    plates = detect_plates(frame)\n",
    "    \n",
    "    for (x, y, w, h) in plates:\n",
    "        plate_roi = frame[y:y+h, x:x+w]\n",
    "        # Apply OCR on the detected plate region\n",
    "        result = reader.readtext(plate_roi, detail=0)\n",
    "        text = \" \".join(result)\n",
    "        \n",
    "        # Draw rectangle around the plate and add the OCR text\n",
    "        cv2.rectangle(frame, (x, y), (x+w, y+h), (0, 255, 0), 2)\n",
    "        cv2.putText(frame, text, (x, y-10), cv2.FONT_HERSHEY_SIMPLEX, 0.7, (0, 255, 0), 2)\n",
    "    \n",
    "    return frame\n",
    "\n",
    "def process_video(video_path):\n",
    "    cap = cv2.VideoCapture(video_path)\n",
    "    if not cap.isOpened():\n",
    "        print(f\"Error opening video: {video_path}\")\n",
    "        return\n",
    "    \n",
    "    while True:\n",
    "        ret, frame = cap.read()\n",
    "        if not ret:\n",
    "            break\n",
    "        \n",
    "        frame = process_frame(frame)\n",
    "        cv2.imshow(\"License Plate Detection\", frame)\n",
    "        \n",
    "        # Break loop on 'q' key press\n",
    "        if cv2.waitKey(1) & 0xFF == ord('q'):\n",
    "            break\n",
    "    \n",
    "    cap.release()\n",
    "    cv2.destroyAllWindows()\n",
    "\n",
    "if __name__ == \"__main__\":\n",
    "    video_path = \"TestVideo.mp4\"  # Specify the path to your video file here\n",
    "    process_video(video_path)\n"
   ]
  }
 ],
 "metadata": {
  "kernelspec": {
   "display_name": "Python 3",
   "language": "python",
   "name": "python3"
  },
  "language_info": {
   "codemirror_mode": {
    "name": "ipython",
    "version": 3
   },
   "file_extension": ".py",
   "mimetype": "text/x-python",
   "name": "python",
   "nbconvert_exporter": "python",
   "pygments_lexer": "ipython3",
   "version": "3.12.0"
  }
 },
 "nbformat": 4,
 "nbformat_minor": 5
}
